{
 "cells": [
  {
   "cell_type": "code",
   "execution_count": 9,
   "metadata": {},
   "outputs": [
    {
     "data": {
      "text/plain": [
       "b'\\xfbg\\x03\\x08rBBR\\xe6U\\x07BB\\xf2BO\\xeaJN\\xce\\xcei\\xf8g/\\x08rBBRfW7\\xc6\\x02\\xce\\xce\\t\\xe2\\xa7\\x8ev\\xf6\\x02\\xfbgKBBBBvgo\\x18\\x18\\x00F\\xd2FV\\xca\\xca\\xf6v\\x12\\xfbg*\\x08rBBR\\xe6U7\\xc2\\x02\\xf2r\\x89\\xde\\xa7\\xa7\\xc2\\xf7\\xfa\\xf8g\\x94BBBB\\xe2\\xfb_\\x00FB\\xc6\\xd6\\xc6\\xf6\\xce\\x8e\\xc6v\\x1a\\xfbg\\x94BBBBvgo\\x00BBnnb\\xf6O\\xce\\xc6f\\x1a\\xfbgO\\x08rBBR\\xe6%7\\x02BBr\\t\\xceJN\\xe7w\\xd2\\xf8g\\x94BBBBv\\xffo\\x18\\x18\\x18bnN\\xf6O\\x8e\\xf6\\xf6\\x1a\\xfbg\\x01BBBB\\xd2\\xfbo\\x18\\x18BbSn\\xe3\\xca\\xfaFv\\x1a\\xfbg\\x1cBBBB\\xe2gs\\x18\\xf3\\xc6\\x8f\\xd2F\\xcd\\xfa\\xdav\\xe6\\x02\\xfbgN\\x08rBBRfW\\x07\\xce\\x00F\\xa7\\xa7\\xef\\x169`^\\xfd\\xf8g,\\x08rBBR\\xe6U7\\x02\\xcec\\x16\\xc2\\xf6N\\xceV\\x02\\x12\\xfbg\\x1cBBBBv\\xffo\\x18\\x18\\x00bB\\x165\\xca\\xfavZ\\x12\\xfbgJ\\x08rBBb\\xe6\\xd7\\x07BB\\xc2rO\\xfe\\x10\\x95\\xf3w{\\xffg\\x1aBBBB\\xe2\\xfb_\\x18\\x18\\x00\\x9e\\xb7&j\\x04\\x8efZ\\x02\\xfbg\\x02BBBBv\\xffo\\x18\\x00BnS\\x06\\xe4\\x9fJ\\xf3w{\\xffgKBBBBv\\xfb_\\x00\\xc6FF\\xd2F\\xf7\\xcf\\xceFB\\x1a\\xfbg\\x95BBBBv\\xc7o\\x00BB\\x9e\\x06&\\xde\\xa9\\xa7\\xf3\\x9bz\\xffg+\\x08rBB\\xe2\\xf3U\\x07\\xceBn\\x06\\xa7\\xd9V)\\xcf\\xde\\xde\\xffg(\\x08rBB\\xe2\\xf3U\\x07BB\\xc2\\xceO\\xdaN\\xca\\xd62\\x12\\xfbg\\x18BBBBv\\xffo\\x18\\xc2BsBSe\\x16\\x94\\xf6J\\n'"
      ]
     },
     "execution_count": 9,
     "metadata": {},
     "output_type": "execute_result"
    }
   ],
   "source": [
    "import torch\n",
    "import base64\n",
    "data = torch.load('data.pt')\n",
    "data"
   ]
  },
  {
   "cell_type": "code",
   "execution_count": 14,
   "metadata": {},
   "outputs": [
    {
     "ename": "Error",
     "evalue": "Incorrect padding",
     "output_type": "error",
     "traceback": [
      "\u001b[1;31m---------------------------------------------------------------------------\u001b[0m",
      "\u001b[1;31mError\u001b[0m                                     Traceback (most recent call last)",
      "Cell \u001b[1;32mIn[14], line 1\u001b[0m\n\u001b[1;32m----> 1\u001b[0m decoded_bytes \u001b[39m=\u001b[39m base64\u001b[39m.\u001b[39;49mb64decode(\u001b[39mb\u001b[39;49m\u001b[39m'\u001b[39;49m\u001b[39m\\xfb\u001b[39;49;00m\u001b[39mg!\u001b[39;49m\u001b[39m\\x08\u001b[39;49;00m\u001b[39mrBB\u001b[39;49m\u001b[39m\\xe2\u001b[39;49;00m\u001b[39m3\u001b[39;49m\u001b[39m\\xe3\u001b[39;49;00m\u001b[39m\\x18\u001b[39;49;00m\u001b[39mBBnn&g\u001b[39;49m\u001b[39m\\xa9\u001b[39;49;00m\u001b[39m/sKh\u001b[39;49m\u001b[39m\\xf6\u001b[39;49;00m\u001b[39mg,\u001b[39;49m\u001b[39m\\x08\u001b[39;49;00m\u001b[39mrBB\u001b[39;49m\u001b[39m\\xe2\u001b[39;49;00m\u001b[39m\\xf3\u001b[39;49;00m\u001b[39ms\u001b[39;49m\u001b[39m\\x00\u001b[39;49;00m\u001b[39mBBF\u001b[39;49m\u001b[39m\\xb7\u001b[39;49;00m\u001b[39m\\x87\u001b[39;49;00m\u001b[39m\\xda\u001b[39;49;00m\u001b[39m\\xad\u001b[39;49;00m\u001b[39m\\x94\u001b[39;49;00m\u001b[39m\\xe6\u001b[39;49;00m\u001b[39m\\x0b\u001b[39;49;00m\u001b[39m\\xad\u001b[39;49;00m\u001b[39m\\xff\u001b[39;49;00m\u001b[39mgF\u001b[39;49m\u001b[39m\\x08\u001b[39;49;00m\u001b[39mrBBR\u001b[39;49m\u001b[39m\\xe6\u001b[39;49;00m\u001b[39m%\u001b[39;49m\u001b[39m7\u001b[39;49m\u001b[39m\\xc2\u001b[39;49;00m\u001b[39m\\x06\u001b[39;49;00m\u001b[39m\\xf2\u001b[39;49;00m\u001b[39m\\xce\u001b[39;49;00m\u001b[39mM\u001b[39;49m\u001b[39m\\xe6\u001b[39;49;00m\u001b[39m[S\u001b[39;49m\u001b[39m\\xdb\u001b[39;49;00m\u001b[39m\\xc2\u001b[39;49;00m\u001b[39m\\xd6\u001b[39;49;00m\u001b[39m\\xfb\u001b[39;49;00m\u001b[39mgN\u001b[39;49m\u001b[39m\\x08\u001b[39;49;00m\u001b[39mrBB\u001b[39;49m\u001b[39m\\xe2\u001b[39;49;00m\u001b[39m3o\u001b[39;49m\u001b[39m\\x18\u001b[39;49;00m\u001b[39mBBnBs\u001b[39;49m\u001b[39m\\xe3\u001b[39;49;00m\u001b[39m\\x12\u001b[39;49;00m\u001b[39m\\xca\u001b[39;49;00m\u001b[39ms\u001b[39;49m\u001b[39m\\xf7\u001b[39;49;00m\u001b[39mY\u001b[39;49m\u001b[39m\\xff\u001b[39;49;00m\u001b[39mgK\u001b[39;49m\u001b[39m\\x08\u001b[39;49;00m\u001b[39mrBBR\u001b[39;49m\u001b[39m\\xe6\u001b[39;49;00m\u001b[39mU7\u001b[39;49m\u001b[39m\\x02\u001b[39;49;00m\u001b[39m\\x00\u001b[39;49;00m\u001b[39msSS\u001b[39;49m\u001b[39m\\xe3\u001b[39;49;00m\u001b[39mBbj\u001b[39;49m\u001b[39m\\x11\u001b[39;49;00m\u001b[39m\\x00\u001b[39;49;00m\u001b[39mg\u001b[39;49m\u001b[39m\\x05\u001b[39;49;00m\u001b[39m\\x08\u001b[39;49;00m\u001b[39mrBBRfW\u001b[39;49m\u001b[39m\\x07\u001b[39;49;00m\u001b[39mBB\u001b[39;49m\u001b[39m\\xce\u001b[39;49;00m\u001b[39m\\xce\u001b[39;49;00m\u001b[39mO\u001b[39;49m\u001b[39m\\xda\u001b[39;49;00m\u001b[39mR8\u001b[39;49m\u001b[39m\\xf3\u001b[39;49;00m\u001b[39m\\xe6\u001b[39;49;00m\u001b[39m\\xc6\u001b[39;49;00m\u001b[39m\\xf6\u001b[39;49;00m\u001b[39mgF\u001b[39;49m\u001b[39m\\x08\u001b[39;49;00m\u001b[39mrBBbfW\u001b[39;49m\u001b[39m\\x07\u001b[39;49;00m\u001b[39mB\u001b[39;49m\u001b[39m\\x18\u001b[39;49;00m\u001b[39m\\x9e\u001b[39;49;00m\u001b[39m\\xd2\u001b[39;49;00m\u001b[39m\\xc6\u001b[39;49;00m\u001b[39m\\xdc\u001b[39;49;00m\u001b[39mF\u001b[39;49m\u001b[39m\\xb9\u001b[39;49;00m\u001b[39m\\xa6\u001b[39;49;00m\u001b[39mz\u001b[39;49m\u001b[39m\\n\u001b[39;49;00m\u001b[39m'\u001b[39;49m)\n",
      "File \u001b[1;32mc:\\Users\\stahp\\AppData\\Local\\Programs\\Python\\Python39\\lib\\base64.py:87\u001b[0m, in \u001b[0;36mb64decode\u001b[1;34m(s, altchars, validate)\u001b[0m\n\u001b[0;32m     85\u001b[0m \u001b[39mif\u001b[39;00m validate \u001b[39mand\u001b[39;00m \u001b[39mnot\u001b[39;00m re\u001b[39m.\u001b[39mfullmatch(\u001b[39mb\u001b[39m\u001b[39m'\u001b[39m\u001b[39m[A-Za-z0-9+/]*=\u001b[39m\u001b[39m{\u001b[39m\u001b[39m0,2}\u001b[39m\u001b[39m'\u001b[39m, s):\n\u001b[0;32m     86\u001b[0m     \u001b[39mraise\u001b[39;00m binascii\u001b[39m.\u001b[39mError(\u001b[39m'\u001b[39m\u001b[39mNon-base64 digit found\u001b[39m\u001b[39m'\u001b[39m)\n\u001b[1;32m---> 87\u001b[0m \u001b[39mreturn\u001b[39;00m binascii\u001b[39m.\u001b[39;49ma2b_base64(s)\n",
      "\u001b[1;31mError\u001b[0m: Incorrect padding"
     ]
    }
   ],
   "source": [
    "decoded_bytes = base64.b64decode(b'\\xfbg!\\x08rBB\\xe23\\xe3\\x18BBnn&g\\xa9/sKh\\xf6g,\\x08rBB\\xe2\\xf3s\\x00BBF\\xb7\\x87\\xda\\xad\\x94\\xe6\\x0b\\xad\\xffgF\\x08rBBR\\xe6%7\\xc2\\x06\\xf2\\xceM\\xe6[S\\xdb\\xc2\\xd6\\xfbgN\\x08rBB\\xe23o\\x18BBnBs\\xe3\\x12\\xcas\\xf7Y\\xffgK\\x08rBBR\\xe6U7\\x02\\x00sSS\\xe3Bbj\\x11\\x00g\\x05\\x08rBBRfW\\x07BB\\xce\\xceO\\xdaR8\\xf3\\xe6\\xc6\\xf6gF\\x08rBBbfW\\x07B\\x18\\x9e\\xd2\\xc6\\xdcF\\xb9\\xa6z\\n')"
   ]
  },
  {
   "cell_type": "code",
   "execution_count": 15,
   "metadata": {},
   "outputs": [
    {
     "data": {
      "text/plain": [
       "bytes"
      ]
     },
     "execution_count": 15,
     "metadata": {},
     "output_type": "execute_result"
    }
   ],
   "source": [
    "data = b'\\xfbg!\\x08rBB\\xe23\\xe3\\x18BBnn&g\\xa9/sKh\\xf6g,\\x08rBB\\xe2\\xf3s\\x00BBF\\xb7\\x87\\xda\\xad\\x94\\xe6\\x0b\\xad\\xffgF\\x08rBBR\\xe6%7\\xc2\\x06\\xf2\\xceM\\xe6[S\\xdb\\xc2\\xd6\\xfbgN\\x08rBB\\xe23o\\x18BBnBs\\xe3\\x12\\xcas\\xf7Y\\xffgK\\x08rBBR\\xe6U7\\x02\\x00sSS\\xe3Bbj\\x11\\x00g\\x05\\x08rBBRfW\\x07BB\\xce\\xceO\\xdaR8\\xf3\\xe6\\xc6\\xf6gF\\x08rBBbfW\\x07B\\x18\\x9e\\xd2\\xc6\\xdcF\\xb9\\xa6z\\n'\n",
    "type(data)"
   ]
  },
  {
   "cell_type": "code",
   "execution_count": 17,
   "metadata": {},
   "outputs": [
    {
     "ename": "UnicodeDecodeError",
     "evalue": "'utf-8' codec can't decode byte 0xfb in position 0: invalid start byte",
     "output_type": "error",
     "traceback": [
      "\u001b[1;31m---------------------------------------------------------------------------\u001b[0m",
      "\u001b[1;31mUnicodeDecodeError\u001b[0m                        Traceback (most recent call last)",
      "Cell \u001b[1;32mIn[17], line 1\u001b[0m\n\u001b[1;32m----> 1\u001b[0m data\u001b[39m.\u001b[39;49mdecode(\u001b[39m'\u001b[39;49m\u001b[39mutf-8\u001b[39;49m\u001b[39m'\u001b[39;49m)\n",
      "\u001b[1;31mUnicodeDecodeError\u001b[0m: 'utf-8' codec can't decode byte 0xfb in position 0: invalid start byte"
     ]
    }
   ],
   "source": [
    "data.decode('utf-8')"
   ]
  },
  {
   "cell_type": "code",
   "execution_count": 5,
   "metadata": {},
   "outputs": [
    {
     "data": {
      "text/plain": [
       "b'F\\x08rBBR\\xe6\\xd77\\x0cBBKJ\\xfa\\xe7\\xda\\xfe`\\x12 gC\\x08rBBRf\\xe7\\xd6\\xd6F\\xc2\\xdbz\\x91\\xe7\\xd6}x\\n'"
      ]
     },
     "execution_count": 5,
     "metadata": {},
     "output_type": "execute_result"
    }
   ],
   "source": [
    "data[1:]"
   ]
  },
  {
   "cell_type": "code",
   "execution_count": 19,
   "metadata": {},
   "outputs": [
    {
     "data": {
      "text/plain": [
       "b'Phan Ng\\xe1\\xbb\\x8dc Anh'"
      ]
     },
     "execution_count": 19,
     "metadata": {},
     "output_type": "execute_result"
    }
   ],
   "source": [
    "\"Phan Ngọc Anh\".encode('utf-8')"
   ]
  }
 ],
 "metadata": {
  "kernelspec": {
   "display_name": "Python 3",
   "language": "python",
   "name": "python3"
  },
  "language_info": {
   "codemirror_mode": {
    "name": "ipython",
    "version": 3
   },
   "file_extension": ".py",
   "mimetype": "text/x-python",
   "name": "python",
   "nbconvert_exporter": "python",
   "pygments_lexer": "ipython3",
   "version": "3.9.11"
  },
  "orig_nbformat": 4
 },
 "nbformat": 4,
 "nbformat_minor": 2
}
